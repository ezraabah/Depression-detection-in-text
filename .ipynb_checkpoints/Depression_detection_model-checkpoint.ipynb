{
 "cells": [
  {
   "cell_type": "markdown",
   "metadata": {},
   "source": [
    "<h1>Depression Detection in Social Media Text using Convolutional Neural Network</h1>\n",
    "<b> By Ezra Abah</b>"
   ]
  },
  {
   "cell_type": "code",
   "execution_count": 1,
   "metadata": {},
   "outputs": [],
   "source": [
    "import numpy as np\n",
    "import pandas as pd\n",
    "import re\n",
    "import nltk\n",
    "from nltk.stem import PorterStemmer \n",
    "from nltk.tokenize import word_tokenize\n",
    "from bs4 import BeautifulSoup\n",
    "from nltk.corpus import stopwords\n",
    "from textblob import Word"
   ]
  },
  {
   "cell_type": "code",
   "execution_count": 2,
   "metadata": {},
   "outputs": [],
   "source": [
    "data=pd.read_csv(\"C:/Users/Admin/Documents/Datasets/tweets_16million.csv\", encoding = \"ISO-8859-1\", names=[\"target\",\"id\",\"date\",\"flag\",\"user\",\"text\"])"
   ]
  },
  {
   "cell_type": "code",
   "execution_count": 3,
   "metadata": {},
   "outputs": [
    {
     "data": {
      "text/html": [
       "<div>\n",
       "<style scoped>\n",
       "    .dataframe tbody tr th:only-of-type {\n",
       "        vertical-align: middle;\n",
       "    }\n",
       "\n",
       "    .dataframe tbody tr th {\n",
       "        vertical-align: top;\n",
       "    }\n",
       "\n",
       "    .dataframe thead th {\n",
       "        text-align: right;\n",
       "    }\n",
       "</style>\n",
       "<table border=\"1\" class=\"dataframe\">\n",
       "  <thead>\n",
       "    <tr style=\"text-align: right;\">\n",
       "      <th></th>\n",
       "      <th>target</th>\n",
       "      <th>id</th>\n",
       "      <th>date</th>\n",
       "      <th>flag</th>\n",
       "      <th>user</th>\n",
       "      <th>text</th>\n",
       "    </tr>\n",
       "  </thead>\n",
       "  <tbody>\n",
       "    <tr>\n",
       "      <th>0</th>\n",
       "      <td>0</td>\n",
       "      <td>1467810369</td>\n",
       "      <td>Mon Apr 06 22:19:45 PDT 2009</td>\n",
       "      <td>NO_QUERY</td>\n",
       "      <td>_TheSpecialOne_</td>\n",
       "      <td>@switchfoot http://twitpic.com/2y1zl - Awww, t...</td>\n",
       "    </tr>\n",
       "    <tr>\n",
       "      <th>1</th>\n",
       "      <td>0</td>\n",
       "      <td>1467810672</td>\n",
       "      <td>Mon Apr 06 22:19:49 PDT 2009</td>\n",
       "      <td>NO_QUERY</td>\n",
       "      <td>scotthamilton</td>\n",
       "      <td>is upset that he can't update his Facebook by ...</td>\n",
       "    </tr>\n",
       "    <tr>\n",
       "      <th>2</th>\n",
       "      <td>0</td>\n",
       "      <td>1467810917</td>\n",
       "      <td>Mon Apr 06 22:19:53 PDT 2009</td>\n",
       "      <td>NO_QUERY</td>\n",
       "      <td>mattycus</td>\n",
       "      <td>@Kenichan I dived many times for the ball. Man...</td>\n",
       "    </tr>\n",
       "    <tr>\n",
       "      <th>3</th>\n",
       "      <td>0</td>\n",
       "      <td>1467811184</td>\n",
       "      <td>Mon Apr 06 22:19:57 PDT 2009</td>\n",
       "      <td>NO_QUERY</td>\n",
       "      <td>ElleCTF</td>\n",
       "      <td>my whole body feels itchy and like its on fire</td>\n",
       "    </tr>\n",
       "    <tr>\n",
       "      <th>4</th>\n",
       "      <td>0</td>\n",
       "      <td>1467811193</td>\n",
       "      <td>Mon Apr 06 22:19:57 PDT 2009</td>\n",
       "      <td>NO_QUERY</td>\n",
       "      <td>Karoli</td>\n",
       "      <td>@nationwideclass no, it's not behaving at all....</td>\n",
       "    </tr>\n",
       "  </tbody>\n",
       "</table>\n",
       "</div>"
      ],
      "text/plain": [
       "   target          id                          date      flag  \\\n",
       "0       0  1467810369  Mon Apr 06 22:19:45 PDT 2009  NO_QUERY   \n",
       "1       0  1467810672  Mon Apr 06 22:19:49 PDT 2009  NO_QUERY   \n",
       "2       0  1467810917  Mon Apr 06 22:19:53 PDT 2009  NO_QUERY   \n",
       "3       0  1467811184  Mon Apr 06 22:19:57 PDT 2009  NO_QUERY   \n",
       "4       0  1467811193  Mon Apr 06 22:19:57 PDT 2009  NO_QUERY   \n",
       "\n",
       "              user                                               text  \n",
       "0  _TheSpecialOne_  @switchfoot http://twitpic.com/2y1zl - Awww, t...  \n",
       "1    scotthamilton  is upset that he can't update his Facebook by ...  \n",
       "2         mattycus  @Kenichan I dived many times for the ball. Man...  \n",
       "3          ElleCTF    my whole body feels itchy and like its on fire   \n",
       "4           Karoli  @nationwideclass no, it's not behaving at all....  "
      ]
     },
     "execution_count": 3,
     "metadata": {},
     "output_type": "execute_result"
    }
   ],
   "source": [
    "data.head()"
   ]
  },
  {
   "cell_type": "code",
   "execution_count": 4,
   "metadata": {},
   "outputs": [
    {
     "name": "stdout",
     "output_type": "stream",
     "text": [
      "The size of this data set is (1600000, 6)\n"
     ]
    },
    {
     "data": {
      "text/html": [
       "<div>\n",
       "<style scoped>\n",
       "    .dataframe tbody tr th:only-of-type {\n",
       "        vertical-align: middle;\n",
       "    }\n",
       "\n",
       "    .dataframe tbody tr th {\n",
       "        vertical-align: top;\n",
       "    }\n",
       "\n",
       "    .dataframe thead th {\n",
       "        text-align: right;\n",
       "    }\n",
       "</style>\n",
       "<table border=\"1\" class=\"dataframe\">\n",
       "  <thead>\n",
       "    <tr style=\"text-align: right;\">\n",
       "      <th></th>\n",
       "      <th>id</th>\n",
       "      <th>date</th>\n",
       "      <th>flag</th>\n",
       "      <th>user</th>\n",
       "      <th>text</th>\n",
       "    </tr>\n",
       "    <tr>\n",
       "      <th>target</th>\n",
       "      <th></th>\n",
       "      <th></th>\n",
       "      <th></th>\n",
       "      <th></th>\n",
       "      <th></th>\n",
       "    </tr>\n",
       "  </thead>\n",
       "  <tbody>\n",
       "    <tr>\n",
       "      <th>0</th>\n",
       "      <td>800000</td>\n",
       "      <td>800000</td>\n",
       "      <td>800000</td>\n",
       "      <td>800000</td>\n",
       "      <td>800000</td>\n",
       "    </tr>\n",
       "    <tr>\n",
       "      <th>4</th>\n",
       "      <td>800000</td>\n",
       "      <td>800000</td>\n",
       "      <td>800000</td>\n",
       "      <td>800000</td>\n",
       "      <td>800000</td>\n",
       "    </tr>\n",
       "  </tbody>\n",
       "</table>\n",
       "</div>"
      ],
      "text/plain": [
       "            id    date    flag    user    text\n",
       "target                                        \n",
       "0       800000  800000  800000  800000  800000\n",
       "4       800000  800000  800000  800000  800000"
      ]
     },
     "execution_count": 4,
     "metadata": {},
     "output_type": "execute_result"
    }
   ],
   "source": [
    "#Observe size of dataset\n",
    "shape = data.shape\n",
    "print(\"The size of this data set is \"+ str(shape))\n",
    "data.groupby('target').count()"
   ]
  },
  {
   "cell_type": "code",
   "execution_count": 5,
   "metadata": {},
   "outputs": [
    {
     "name": "stdout",
     "output_type": "stream",
     "text": [
      "target     int64\n",
      "id         int64\n",
      "date      object\n",
      "flag      object\n",
      "user      object\n",
      "text      object\n",
      "dtype: object\n"
     ]
    }
   ],
   "source": [
    "#view datatypes of individual columns\n",
    "\n",
    "types = data.dtypes\n",
    "print(types)"
   ]
  },
  {
   "cell_type": "code",
   "execution_count": 6,
   "metadata": {},
   "outputs": [
    {
     "data": {
      "text/plain": [
       "0    @switchfoot http://twitpic.com/2y1zl - Awww, t...\n",
       "1    is upset that he can't update his Facebook by ...\n",
       "2    @Kenichan I dived many times for the ball. Man...\n",
       "3      my whole body feels itchy and like its on fire \n",
       "4    @nationwideclass no, it's not behaving at all....\n",
       "Name: text, dtype: object"
      ]
     },
     "execution_count": 6,
     "metadata": {},
     "output_type": "execute_result"
    }
   ],
   "source": [
    "data['text'].head()"
   ]
  },
  {
   "cell_type": "code",
   "execution_count": 7,
   "metadata": {},
   "outputs": [
    {
     "data": {
      "text/plain": [
       "target    0\n",
       "id        0\n",
       "date      0\n",
       "flag      0\n",
       "user      0\n",
       "text      0\n",
       "dtype: int64"
      ]
     },
     "execution_count": 7,
     "metadata": {},
     "output_type": "execute_result"
    }
   ],
   "source": [
    "# Check for empty cells\n",
    "data.isnull().sum()"
   ]
  },
  {
   "cell_type": "code",
   "execution_count": 8,
   "metadata": {},
   "outputs": [
    {
     "name": "stdout",
     "output_type": "stream",
     "text": [
      "<class 'pandas.core.frame.DataFrame'>\n",
      "RangeIndex: 1600000 entries, 0 to 1599999\n",
      "Data columns (total 6 columns):\n",
      " #   Column  Non-Null Count    Dtype \n",
      "---  ------  --------------    ----- \n",
      " 0   target  1600000 non-null  int64 \n",
      " 1   id      1600000 non-null  int64 \n",
      " 2   date    1600000 non-null  object\n",
      " 3   flag    1600000 non-null  object\n",
      " 4   user    1600000 non-null  object\n",
      " 5   text    1600000 non-null  object\n",
      "dtypes: int64(2), object(4)\n",
      "memory usage: 73.2+ MB\n"
     ]
    }
   ],
   "source": [
    "data.info()"
   ]
  },
  {
   "cell_type": "code",
   "execution_count": 10,
   "metadata": {},
   "outputs": [],
   "source": [
    "# Remove_username\n",
    "def remove_usernames(text):\n",
    "    new_text=text.apply(lambda x: re.sub('@[\\w]+','', str(x)))\n",
    "    return new_text\n",
    "data['text']=remove_usernames(data['text'])"
   ]
  },
  {
   "cell_type": "code",
   "execution_count": 12,
   "metadata": {},
   "outputs": [
    {
     "data": {
      "text/plain": [
       "<bound method NDFrame.head of 0           httptwitpiccom2y1zl  Awww thats a bummer  You...\n",
       "1          is upset that he cant update his Facebook by t...\n",
       "2           I dived many times for the ball Managed to sa...\n",
       "3            my whole body feels itchy and like its on fire \n",
       "4           no its not behaving at all im mad why am i he...\n",
       "                                 ...                        \n",
       "1599995    Just woke up Having no school is the best feel...\n",
       "1599996    TheWDBcom  Very cool to hear old Walt intervie...\n",
       "1599997    Are you ready for your MoJo Makeover Ask me fo...\n",
       "1599998    Happy 38th Birthday to my boo of alll time Tup...\n",
       "1599999                             happy charitytuesday    \n",
       "Name: text, Length: 1600000, dtype: object>"
      ]
     },
     "execution_count": 12,
     "metadata": {},
     "output_type": "execute_result"
    }
   ],
   "source": [
    "def remove_hyperlinks(text):\n",
    "    \"\"\"Remove punctuation from text\"\"\"\n",
    "    new_text = text.apply(lambda x: re.sub(r'https?:\\/\\/(www\\.)?[-a-zA-Z0–9@:%._\\+~#=]{2,256}\\.[a-z]{2,6}\\b([-a-zA-Z0–9@:%_\\+.~#?&//=]*)', '', str(x), flags=re.MULTILINE))\n",
    "    new_text = text.apply(lambda x: re.sub(r'[-a-zA-Z0–9@:%._\\+~#=]{2,256}\\.[a-z]{2,6}\\b([-a-zA-Z0–9@:%_\\+.~#?&//=]*)', '', str(x), flags=re.MULTILINE))\n",
    "    return new_text\n",
    "data['text']=remove_hyperlinks(data['text'])\n",
    "data['text'].head"
   ]
  },
  {
   "cell_type": "code",
   "execution_count": 11,
   "metadata": {},
   "outputs": [
    {
     "data": {
      "text/plain": [
       "<bound method NDFrame.head of 0           httptwitpiccom2y1zl  Awww thats a bummer  You...\n",
       "1          is upset that he cant update his Facebook by t...\n",
       "2           I dived many times for the ball Managed to sa...\n",
       "3            my whole body feels itchy and like its on fire \n",
       "4           no its not behaving at all im mad why am i he...\n",
       "                                 ...                        \n",
       "1599995    Just woke up Having no school is the best feel...\n",
       "1599996    TheWDBcom  Very cool to hear old Walt intervie...\n",
       "1599997    Are you ready for your MoJo Makeover Ask me fo...\n",
       "1599998    Happy 38th Birthday to my boo of alll time Tup...\n",
       "1599999                             happy charitytuesday    \n",
       "Name: text, Length: 1600000, dtype: object>"
      ]
     },
     "execution_count": 11,
     "metadata": {},
     "output_type": "execute_result"
    }
   ],
   "source": [
    "def remove_punctuation(text):\n",
    "    \"\"\"Remove punctuation from text\"\"\"\n",
    "    new_text=text.str.replace('[^\\w\\s]','')\n",
    "    return new_text\n",
    "data['text']=remove_punctuation(data['text'])\n",
    "data['text'].head"
   ]
  },
  {
   "cell_type": "code",
   "execution_count": 13,
   "metadata": {},
   "outputs": [
    {
     "name": "stderr",
     "output_type": "stream",
     "text": [
      "[nltk_data] Downloading package stopwords to\n",
      "[nltk_data]     C:\\Users\\Admin\\AppData\\Roaming\\nltk_data...\n",
      "[nltk_data]   Package stopwords is already up-to-date!\n"
     ]
    },
    {
     "data": {
      "text/plain": [
       "<bound method NDFrame.head of 0          httptwitpiccom2y1zl Awww thats bummer You shou...\n",
       "1          upset cant update Facebook texting might cry r...\n",
       "2          I dived many times ball Managed save 50 The re...\n",
       "3                           whole body feels itchy like fire\n",
       "4                                 behaving im mad I cant see\n",
       "                                 ...                        \n",
       "1599995            Just woke Having school best feeling ever\n",
       "1599996    TheWDBcom Very cool hear old Walt interviews â...\n",
       "1599997                  Are ready MoJo Makeover Ask details\n",
       "1599998    Happy 38th Birthday boo alll time Tupac Amaru ...\n",
       "1599999                                 happy charitytuesday\n",
       "Name: text, Length: 1600000, dtype: object>"
      ]
     },
     "execution_count": 13,
     "metadata": {},
     "output_type": "execute_result"
    }
   ],
   "source": [
    "def remove_stopwords(text):\n",
    "    \"\"\"Remove stopwords from text\"\"\"\n",
    "    nltk.download('stopwords')\n",
    "    stop = stopwords.words('english')\n",
    "    new_text= text.apply(lambda x: \" \".join(x for x in x.split() if x not in stop))\n",
    "    return new_text\n",
    "data['text']=remove_stopwords(data['text'])\n",
    "data['text'].head"
   ]
  },
  {
   "cell_type": "code",
   "execution_count": 14,
   "metadata": {},
   "outputs": [
    {
     "data": {
      "text/plain": [
       "<bound method NDFrame.head of 0          httptwitpiccomyzl Awww thats bummer You should...\n",
       "1          upset cant update Facebook texting might cry r...\n",
       "2          I dived many times ball Managed save  The rest...\n",
       "3                           whole body feels itchy like fire\n",
       "4                                 behaving im mad I cant see\n",
       "                                 ...                        \n",
       "1599995            Just woke Having school best feeling ever\n",
       "1599996    TheWDBcom Very cool hear old Walt interviews â...\n",
       "1599997                  Are ready MoJo Makeover Ask details\n",
       "1599998    Happy th Birthday boo alll time Tupac Amaru Sh...\n",
       "1599999                                 happy charitytuesday\n",
       "Name: text, Length: 1600000, dtype: object>"
      ]
     },
     "execution_count": 14,
     "metadata": {},
     "output_type": "execute_result"
    }
   ],
   "source": [
    "def remove_digits(text):\n",
    "    \"\"\"Removes digit present in text\"\"\"\n",
    "    new_text=text.apply(lambda x: re.sub(r\"\\d\",'', str(x)))\n",
    "    return new_text\n",
    "data['text']=remove_digits(data['text'])\n",
    "data['text'].head"
   ]
  },
  {
   "cell_type": "code",
   "execution_count": 15,
   "metadata": {},
   "outputs": [
    {
     "data": {
      "text/plain": [
       "<bound method NDFrame.head of 0          httptwitpiccomyzl awww thats bummer you should...\n",
       "1          upset cant update facebook texting might cry r...\n",
       "2          i dived many times ball managed save the rest ...\n",
       "3                           whole body feels itchy like fire\n",
       "4                                 behaving im mad i cant see\n",
       "                                 ...                        \n",
       "1599995            just woke having school best feeling ever\n",
       "1599996    thewdbcom very cool hear old walt interviews â...\n",
       "1599997                  are ready mojo makeover ask details\n",
       "1599998    happy th birthday boo alll time tupac amaru sh...\n",
       "1599999                                 happy charitytuesday\n",
       "Name: text, Length: 1600000, dtype: object>"
      ]
     },
     "execution_count": 15,
     "metadata": {},
     "output_type": "execute_result"
    }
   ],
   "source": [
    "def lower_case(text):\n",
    "    \"\"\"changes every text to lower case\"\"\"\n",
    "    new_text = text.apply(lambda x: \" \".join(x.lower() for x in x.split()))\n",
    "    return new_text\n",
    "data['text']=lower_case(data['text'])\n",
    "data['text'].head"
   ]
  },
  {
   "cell_type": "code",
   "execution_count": 16,
   "metadata": {},
   "outputs": [
    {
     "data": {
      "text/plain": [
       "<bound method NDFrame.head of 0          httptwitpiccomyzl awww thats bummer you should...\n",
       "1          upset cant update facebook texting might cry r...\n",
       "2          i dived many time ball managed save the rest g...\n",
       "3                            whole body feel itchy like fire\n",
       "4                                 behaving im mad i cant see\n",
       "                                 ...                        \n",
       "1599995            just woke having school best feeling ever\n",
       "1599996    thewdbcom very cool hear old walt interview â ...\n",
       "1599997                   are ready mojo makeover ask detail\n",
       "1599998    happy th birthday boo alll time tupac amaru sh...\n",
       "1599999                                 happy charitytuesday\n",
       "Name: text, Length: 1600000, dtype: object>"
      ]
     },
     "execution_count": 16,
     "metadata": {},
     "output_type": "execute_result"
    }
   ],
   "source": [
    "def lemmatize(text):\n",
    "    \"\"\"Remove punctuation from text\"\"\"\n",
    "    new_text=text.apply(lambda x: \" \".join([Word(word).lemmatize() for word in x.split()]))\n",
    "    return new_text\n",
    "data['text']=lemmatize(data['text'])\n",
    "data['text'].head"
   ]
  },
  {
   "cell_type": "code",
   "execution_count": null,
   "metadata": {},
   "outputs": [],
   "source": [
    "# Stemmatize\n",
    "#def word_stemmer(text):\n",
    "#    stem_text = [PorterStemmer().stem(i) for i in text]\n",
    "#    return stem_text\n",
    "#data['text'] = data['text'].apply(lambda x: word_stemmer(x))\n",
    "#data.head()\n",
    "\n",
    "\n",
    "#stem_text = PorterStemmer()\n",
    "#data['text']=data['text'].apply(lambda x: \" \".join([stem_text.stem(word) for word in x.split()]))"
   ]
  },
  {
   "cell_type": "markdown",
   "metadata": {},
   "source": [
    "## Exploratory Data Analysis"
   ]
  },
  {
   "cell_type": "code",
   "execution_count": null,
   "metadata": {},
   "outputs": [],
   "source": []
  }
 ],
 "metadata": {
  "kernelspec": {
   "display_name": "Python 3",
   "language": "python",
   "name": "python3"
  },
  "language_info": {
   "codemirror_mode": {
    "name": "ipython",
    "version": 3
   },
   "file_extension": ".py",
   "mimetype": "text/x-python",
   "name": "python",
   "nbconvert_exporter": "python",
   "pygments_lexer": "ipython3",
   "version": "3.7.7"
  }
 },
 "nbformat": 4,
 "nbformat_minor": 4
}
