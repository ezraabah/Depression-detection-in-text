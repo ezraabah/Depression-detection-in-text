{
 "cells": [
  {
   "cell_type": "markdown",
   "metadata": {},
   "source": [
    "# Depression detection from social network text"
   ]
  },
  {
   "cell_type": "code",
   "execution_count": null,
   "metadata": {},
   "outputs": [],
   "source": [
    "# cleaning text\n",
    "\n",
    "def remove_usernames(text):\n",
    "    new_text=text.apply(lambda x: re.sub('@[\\w]+','', str(x)))\n",
    "    return new_text\n",
    "\n",
    "def remove_punctuation(text):\n",
    "    \"\"\"Remove punctuation from text\"\"\"\n",
    "    new_text=text.str.replace('[^\\w\\s]','')\n",
    "    return new_text\n",
    "\n",
    "def remove_html(text):\n",
    "    \"\"\"Remove punctuation from text\"\"\"\n",
    "    new_text = text.apply(lambda x: re.sub(r'https?:\\/\\/(www\\.)?[-a-zA-Z0–9@:%._\\+~#=]{2,256}\\.[a-z]{2,6}\\b([-a-zA-Z0–9@:%_\\+.~#?&//=]*)', '', str(x), flags=re.MULTILINE))\n",
    "    new_text = text.apply(lambda x: re.sub(r'[-a-zA-Z0–9@:%._\\+~#=]{2,256}\\.[a-z]{2,6}\\b([-a-zA-Z0–9@:%_\\+.~#?&//=]*)', '', str(x), flags=re.MULTILINE))\n",
    "    return new_text\n",
    "\n",
    "def remove_stopwords(text):\n",
    "    \"\"\"Remove stopwords from text\"\"\"\n",
    "    nltk.download('stopwords')\n",
    "    stop = stopwords.words('english')\n",
    "    new_text= text.apply(lambda x: \" \".join(x for x in x.split() if x not in stop))\n",
    "    return new_text\n",
    "\n",
    "def remove_digits(text):\n",
    "    \"\"\"Removes digit present in text\"\"\"\n",
    "    new_text=text.apply(lambda x: re.sub(r\"\\d\",'', str(x)))\n",
    "    return new_text\n",
    "\n",
    "def lower_case(text):\n",
    "    \"\"\"changes every text to lower case\"\"\"\n",
    "    new_text = text.apply(lambda x: \" \".join(x.lower() for x in x.split()))\n",
    "    return new_text\n",
    "\n",
    "def lemmatize(text):\n",
    "    \"\"\"Remove punctuation from text\"\"\"\n",
    "    new_text=text.apply(lambda x: \" \".join([Word(word).lemmatize() for word in x.split()]))\n",
    "    return new_text\n",
    "\n",
    "def clean (text):\n",
    "    new_text = remove_usernames(text)\n",
    "    new_text = remove_punctuation(text)\n",
    "    new_text = remove_html(text)\n",
    "    new_text = remove_stopwords(text)\n",
    "    new_text = remove_digits(text)\n",
    "    new_text = lower_case(text)\n",
    "    new_text = lemmatize(text)\n",
    "    return new_text"
   ]
  },
  {
   "cell_type": "code",
   "execution_count": null,
   "metadata": {},
   "outputs": [],
   "source": []
  },
  {
   "cell_type": "markdown",
   "metadata": {},
   "source": [
    "### Baseline Model"
   ]
  },
  {
   "cell_type": "code",
   "execution_count": null,
   "metadata": {},
   "outputs": [],
   "source": []
  },
  {
   "cell_type": "code",
   "execution_count": null,
   "metadata": {},
   "outputs": [],
   "source": []
  },
  {
   "cell_type": "code",
   "execution_count": null,
   "metadata": {},
   "outputs": [],
   "source": []
  },
  {
   "cell_type": "markdown",
   "metadata": {},
   "source": [
    "### LSTM Model"
   ]
  },
  {
   "cell_type": "code",
   "execution_count": null,
   "metadata": {},
   "outputs": [],
   "source": []
  },
  {
   "cell_type": "code",
   "execution_count": null,
   "metadata": {},
   "outputs": [],
   "source": []
  },
  {
   "cell_type": "code",
   "execution_count": null,
   "metadata": {},
   "outputs": [],
   "source": []
  },
  {
   "cell_type": "markdown",
   "metadata": {},
   "source": [
    "### CNN Model"
   ]
  },
  {
   "cell_type": "code",
   "execution_count": null,
   "metadata": {},
   "outputs": [],
   "source": []
  },
  {
   "cell_type": "code",
   "execution_count": null,
   "metadata": {},
   "outputs": [],
   "source": []
  },
  {
   "cell_type": "code",
   "execution_count": null,
   "metadata": {},
   "outputs": [],
   "source": []
  }
 ],
 "metadata": {
  "kernelspec": {
   "display_name": "Python 3",
   "language": "python",
   "name": "python3"
  },
  "language_info": {
   "codemirror_mode": {
    "name": "ipython",
    "version": 3
   },
   "file_extension": ".py",
   "mimetype": "text/x-python",
   "name": "python",
   "nbconvert_exporter": "python",
   "pygments_lexer": "ipython3",
   "version": "3.7.7"
  }
 },
 "nbformat": 4,
 "nbformat_minor": 4
}
